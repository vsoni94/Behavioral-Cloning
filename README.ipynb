{
 "cells": [
  {
   "cell_type": "markdown",
   "metadata": {},
   "source": [
    "## Behavioral-Cloning Project\n",
    "\n",
    "### 1. Overview\n",
    "Steps followed in completion of the project are as follows:\n",
    "\n",
    "* Drove car in simulator to collect data and saved the data in folder 'VarunData'.\n",
    "* Added noise to center image and flipped left, center and right images to increase dataset.\n",
    "* Defined the Convolutional Neural Network using keras.\n",
    "* After achieving good accuracy on dataset, saved the model as 'model.h5'\n",
    "* Used 'drive.py'to test the trained model and saved the data.\n",
    "* Used 'video.py' to create the video from saved data in previous step. I have attached 2 videos. One is the video (video.mp4) created by 'video.py'. The quality of the video was not good, so I recoreded the video using screen recorder and saved it as 'video2.mp4'\n"
   ]
  },
  {
   "cell_type": "markdown",
   "metadata": {},
   "source": [
    "### 2. Project Files\n",
    "\n",
    "| Filename  |     Description\t        \t\t\t\t\t| \n",
    "|:---------:|:---------------------------------------------:| \n",
    "| model.py  | File to preprocess training data and define & train the model| \n",
    "| model.h5  | The model saved by model.py \t                   |\n",
    "| drive.py  | Python file to test the model created by model.py|\n",
    "| video.py\t| Python file to generate video from test images   |\n",
    "| video.mp4\t| Output of video.py      \t\t\t\t           |\n",
    "| video2.mp4| Video recoreded by screen recorder               |\n",
    "| VarunData | Folder contraining training data        \t       |\n"
   ]
  },
  {
   "cell_type": "markdown",
   "metadata": {},
   "source": [
    "### 2. Data Collection and Preprocessing of Image Data\n",
    "\n",
    "I drove the car in Training mode for 3 laps. In first 2 laps, I drove car such that the car stays in the center and for 3rd lap, I drove the car to the extreme corners and steered it to the center every now and then. \n",
    "\n",
    "The images created after exiting training mode were center, left and right camera images as shown below:\n",
    "\n",
    "![alttext](examples/center.jpg) ![alttext](examples/left.jpg) ![alttext](examples/right.jpg)\n",
    "\n",
    "To increase the size of dataset, I flipped center, left and right images as shown below:\n",
    "\n",
    "![alttext](examples/flipCenter.jpg) ![alttext](examples/flipLeft.jpg) ![alttext](examples/flipRight.jpg)\n",
    "\n",
    "To improve dataset further, I added noise to the center image as shown below:\n",
    "\n",
    "![alttext](examples/noisyImage.jpg)\n",
    "\n",
    "### Design and Test a Model Architecture\n",
    "\n",
    "#### 2. Describe what your final model architecture looks like including model type, layers, layer sizes, connectivity, etc.) Consider including a diagram and/or table describing the final model.\n",
    "\n",
    "I used model based on Nvidia's paper with dropout of 0.8 just after cropping input and dropout of 0.6 after CNN. My final model consisted of the following layers:\n",
    "\n",
    "| Layer         \t\t|     Description\t        \t\t\t\t\t| \n",
    "|:---------------------:|:---------------------------------------------:| \n",
    "| Input         \t\t| 160x320x3 RGB image   \t\t\t\t\t\t|\n",
    "| Cropping              | (70,25), (0,0) RGB image   \t\t\t\t\t|\n",
    "| Dropout        \t\t| keep_prob=0.8        \t\t\t\t\t\t\t|\n",
    "| Convolution 5x5     \t| 2x2 stride, valid padding \t                |\n",
    "| RELU\t\t\t\t\t|\t\t\t\t\t\t\t\t\t\t\t\t|\n",
    "| Convolution 5x5     \t| 2x2 stride, valid padding \t                |\n",
    "| RELU\t\t\t\t\t|\t\t\t\t\t\t\t\t\t\t\t\t|\n",
    "| Convolution 5x5     \t| 2x2 stride, valid padding \t                |\n",
    "| RELU\t\t\t\t\t|\t\t\t\t\t\t\t\t\t\t\t\t|\n",
    "| Convolution 5x5     \t| valid padding \t                            |\n",
    "| RELU\t\t\t\t\t|\t\t\t\t\t\t\t\t\t\t\t\t|\n",
    "| Convolution 5x5     \t| valid padding \t                            |\n",
    "| RELU\t\t\t\t\t|\t\t\t\t\t\t\t\t\t\t\t\t|\n",
    "| Dropout        \t\t| keep_prob=0.6        \t\t\t\t\t\t\t|\n",
    "| Flatten\t\t        |        \t\t\t\t\t\t\t\t\t    |\n",
    "| Dense         \t\t|         \t\t\t\t\t\t\t\t\t    |\n",
    "| Dense         \t\t|                \t\t\t\t\t\t\t    |\n",
    "| Dense         \t    |\t\t\t\t\t\t\t\t\t\t\t\t|\n",
    "| Dense  \t\t\t\t|\t\t\t\t\t\t\t\t\t\t\t\t|\n"
   ]
  },
  {
   "cell_type": "markdown",
   "metadata": {},
   "source": [
    "#### 3. Describe how you trained your model. The discussion can include the type of optimizer, the batch size, number of epochs and any hyperparameters such as learning rate.\n",
    "\n",
    "To train the model, I used following parameters:\n",
    "    * learning rate=0.0001\n",
    "    * loss function =mse (mean square error)\n",
    "    * Probability of keeping a node while using droput = 0.7\n",
    "    * Number of Epochs = 5\n",
    "    * Optimizer = Adam\n"
   ]
  },
  {
   "cell_type": "markdown",
   "metadata": {},
   "source": [
    "\n"
   ]
  },
  {
   "cell_type": "code",
   "execution_count": null,
   "metadata": {},
   "outputs": [],
   "source": []
  }
 ],
 "metadata": {
  "kernelspec": {
   "display_name": "Python 3",
   "language": "python",
   "name": "python3"
  },
  "language_info": {
   "codemirror_mode": {
    "name": "ipython",
    "version": 3
   },
   "file_extension": ".py",
   "mimetype": "text/x-python",
   "name": "python",
   "nbconvert_exporter": "python",
   "pygments_lexer": "ipython3",
   "version": "3.7.6"
  }
 },
 "nbformat": 4,
 "nbformat_minor": 2
}
